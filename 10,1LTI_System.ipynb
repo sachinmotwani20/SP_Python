{
  "nbformat": 4,
  "nbformat_minor": 0,
  "metadata": {
    "colab": {
      "name": "10,1LTI_System.ipynb",
      "provenance": [],
      "authorship_tag": "ABX9TyNAegD5Z4YEv4mq5+P19j+A",
      "include_colab_link": true
    },
    "kernelspec": {
      "name": "python3",
      "display_name": "Python 3"
    }
  },
  "cells": [
    {
      "cell_type": "markdown",
      "metadata": {
        "id": "view-in-github",
        "colab_type": "text"
      },
      "source": [
        "<a href=\"https://colab.research.google.com/github/sachinmotwani20/SP_Python/blob/master/10%2C1LTI_System.ipynb\" target=\"_parent\"><img src=\"https://colab.research.google.com/assets/colab-badge.svg\" alt=\"Open In Colab\"/></a>"
      ]
    },
    {
      "cell_type": "markdown",
      "metadata": {
        "id": "Z8uHs9QwSOw2",
        "colab_type": "text"
      },
      "source": [
        "#LTI Theory\n",
        "\n",
        "* ***System*** : Anything that takes a signal as input & produces a signal as output.\n",
        "* An ***LTI System*** is a system with the following two properties:-\n",
        "      1) Time Invariance: The behaviour of the system doesn't change over time.\n",
        "         Alternately, we can say that, an input will always give the same output \n",
        "         no matter how many times or after how much time later the input is given.\n",
        "      2) Linearity: \n",
        "          if (i/p)1 -> (o/p)1 & (i/p)2 -> (o/p)2\n",
        "          Then, (i/p)1 (i/p)2 -> (o/p)1 + (o/p)2\n",
        "Acoustics are by & large LTI."
      ]
    },
    {
      "cell_type": "markdown",
      "metadata": {
        "id": "flqtF9G3U59B",
        "colab_type": "text"
      },
      "source": [
        "#Acoustic System as an LTI System\n",
        "It can :-\n",
        "\n",
        "    1) Delay a signal and echo. Eg, a speaker in a room.\n",
        "    2) Attenuate some frequencies more than others. (Like Filters) \n",
        "\n",
        "But it can't :-\n",
        "\n",
        "    1) Output more enrgy than input. Eg, Amplifiers aren't LTI.\n",
        "    2) Move energy from one frequency to another. (You can't sing at one frequency & hear at other frequency) \n",
        "    Though there are mechanical systems that do that; but then those are non-LTI systems."
      ]
    },
    {
      "cell_type": "markdown",
      "metadata": {
        "id": "dmphlL0wWoHi",
        "colab_type": "text"
      },
      "source": [
        "#System Characterization\n",
        "If we know what a system does to each frequency component, we know what it will do to a signal.\n",
        "\n",
        "This is what people actually do when designing a particular room or building a concert hall.\n",
        "\n",
        "#How?\n",
        "You could input one frequency at a time & record the result.\n",
        "\n",
        "Or sweep through the ranges of frequencies. \n",
        "\n",
        "Or input all the frequecies at the same time! (Isn't that cool, cause LTI systems have the characteristic that they will give the same result time invariently)\n",
        "\n",
        "All frequencies put together spectrum:\n",
        "\n",
        "![alt text](https://drive.google.com/uc?id=1rHU7Pz0jOsIexEz2uWCUxxpA5F0sACcK)\n",
        "\n",
        "We wish to generate a sound that has this spectrum. Which looks like: \n",
        "\n",
        "![alt text](https://drive.google.com/uc?id=16iPWPL_3061cSRP_9ZZ1bi2FTmLtbrfu)"
      ]
    },
    {
      "cell_type": "markdown",
      "metadata": {
        "id": "9UGujl7EZwRg",
        "colab_type": "text"
      },
      "source": [
        "This is nothing but an impulse. "
      ]
    },
    {
      "cell_type": "markdown",
      "metadata": {
        "id": "uVzZ9EA2aIBg",
        "colab_type": "text"
      },
      "source": [
        "#Impulse \n",
        "This means that DFT of the impulse gives the summary of frequency response of all the frequencies.\n",
        "\n",
        "Practically, this means that the you can just go & clap in a room (or fire a gun shot) and we could get to know all about the accoustics of the room.\n",
        "\n",
        "* The input is called ***Impulse*** & the output is called ***Impulse Response***.\n",
        "* The DFt of the Impulse Response is the ***Transfer Function*** of a system."
      ]
    },
    {
      "cell_type": "markdown",
      "metadata": {
        "id": "UZnrJMNJbZYz",
        "colab_type": "text"
      },
      "source": [
        "Now you may go back to the introduction file to get to know why did we use the gun shot on the Violin sound to know about the acoustics of the room.\n",
        "\n",
        "![alt text](https://drive.google.com/uc?id=1ai43nhFamEXsB9-x5opriT3DJloETJgS)\n",
        "\n",
        "Changed (Signal Processing) Vocab\n",
        "\n",
        "![alt text](https://drive.google.com/uc?id=1m47AVNYzk0fsfiM83v67cuoQWvl0sj6W)"
      ]
    }
  ]
}