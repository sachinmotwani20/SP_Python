{
  "nbformat": 4,
  "nbformat_minor": 0,
  "metadata": {
    "colab": {
      "name": "Ch10,2Impulse.ipynb",
      "provenance": [],
      "authorship_tag": "ABX9TyMiaNL4joEJlyvNS31Ckm9F",
      "include_colab_link": true
    },
    "kernelspec": {
      "name": "python3",
      "display_name": "Python 3"
    }
  },
  "cells": [
    {
      "cell_type": "markdown",
      "metadata": {
        "id": "view-in-github",
        "colab_type": "text"
      },
      "source": [
        "<a href=\"https://colab.research.google.com/github/sachinmotwani20/SP_Python/blob/master/Ch10%2C2Impulse.ipynb\" target=\"_parent\"><img src=\"https://colab.research.google.com/assets/colab-badge.svg\" alt=\"Open In Colab\"/></a>"
      ]
    },
    {
      "cell_type": "code",
      "metadata": {
        "id": "HtP-fFXjezDt",
        "colab_type": "code",
        "colab": {}
      },
      "source": [
        ""
      ],
      "execution_count": 0,
      "outputs": []
    },
    {
      "cell_type": "markdown",
      "metadata": {
        "id": "kJmURNV7e0Jm",
        "colab_type": "text"
      },
      "source": [
        "Now do chaper 10 \n",
        "\n",
        "https://github.com/AllenDowney/ThinkDSP/blob/master/code/chap10.ipynb"
      ]
    }
  ]
}